{
 "cells": [
  {
   "cell_type": "code",
   "execution_count": 17,
   "metadata": {},
   "outputs": [],
   "source": [
    "import sys, io, re\n",
    "from tweepy import API\n",
    "from tweepy import OAuthHandler\n",
    "import csv\n",
    "from tweepy import Cursor"
   ]
  },
  {
   "cell_type": "code",
   "execution_count": 18,
   "metadata": {},
   "outputs": [],
   "source": [
    "try:\n",
    "    consumer_key = 'sz6x0nvL0ls9wacR64MZu23z4'\n",
    "    consumer_secret = 'ofeGnzduikcHX6iaQMqBCIJ666m6nXAQACIAXMJaFhmC6rjRmT'\n",
    "    access_token = '854004678127910913-PUPfQYxIjpBWjXOgE25kys8kmDJdY0G'\n",
    "    access_secret = 'BC2TxbhKXkdkZ91DXofF7GX8p2JNfbpHqhshW1bwQkgxN'\n",
    "except KeyError :\n",
    "    sys.stderr.write(\"TWITTER_' environment variables not set\\n\")\n",
    "    sys.exit(1)\n",
    "auth = OAuthHandler(consumer_key, consumer_secret)\n",
    "auth.set_access_token(access_token, access_secret)"
   ]
  },
  {
   "cell_type": "code",
   "execution_count": 19,
   "metadata": {},
   "outputs": [],
   "source": [
    "client = API(auth)"
   ]
  },
  {
   "cell_type": "code",
   "execution_count": 20,
   "metadata": {
    "scrolled": true
   },
   "outputs": [
    {
     "name": "stdout",
     "output_type": "stream",
     "text": [
      "Boaz Abigail (Abbie) 2018-08-27 15:35:31\n",
      "Concerned Nigerian 🇳🇬 2018-08-27 09:02:04\n",
      "Oluwadunmininu💎💥 2018-08-26 18:22:56\n",
      "because_of_God_I 2018-08-25 10:09:49\n",
      "Kamasutra🍆 2018-08-24 18:00:52\n",
      "Nwagu David 2018-08-23 09:06:41\n",
      "FK Realtors 2018-08-23 08:25:30\n",
      "FK Realtors 2018-08-23 08:20:00\n",
      "Ahdou Staqmamoené Leiluannè-Sheill♌ 2018-08-20 19:01:35\n",
      "Ahdou Staqmamoené Leiluannè-Sheill♌ 2018-08-20 19:00:25\n",
      "Ahdou Staqmamoené Leiluannè-Sheill♌ 2018-08-20 18:57:42\n",
      "Ahdou Staqmamoené Leiluannè-Sheill♌ 2018-08-20 18:57:29\n",
      ".AJIBADE. 2018-08-20 11:44:26\n",
      "Chuks Zul'Zoranda 2018-08-20 08:45:47\n",
      "Commissioner of Faaji 2018-08-20 00:55:04\n",
      "GENE OACKLAND 2018-08-27 20:55:16\n",
      "Concerned Nigerian 🇳🇬 2018-08-27 09:02:04\n",
      "Boaz Abigail (Abbie) 2018-08-27 15:35:31\n",
      "Concerned Nigerian 🇳🇬 2018-08-27 09:02:04\n",
      "Oluwadunmininu💎💥 2018-08-26 18:22:56\n",
      "because_of_God_I 2018-08-25 10:09:49\n",
      "Kamasutra🍆 2018-08-24 18:00:52\n",
      "Nwagu David 2018-08-23 09:06:41\n",
      "FK Realtors 2018-08-23 08:25:30\n",
      "FK Realtors 2018-08-23 08:20:00\n",
      "Ahdou Staqmamoené Leiluannè-Sheill♌ 2018-08-20 19:01:35\n",
      "Ahdou Staqmamoené Leiluannè-Sheill♌ 2018-08-20 19:00:25\n",
      "Ahdou Staqmamoené Leiluannè-Sheill♌ 2018-08-20 18:57:42\n",
      "Ahdou Staqmamoené Leiluannè-Sheill♌ 2018-08-20 18:57:29\n",
      ".AJIBADE. 2018-08-20 11:44:26\n",
      "Chuks Zul'Zoranda 2018-08-20 08:45:47\n",
      "Commissioner of Faaji 2018-08-20 00:55:04\n",
      "GENE OACKLAND 2018-08-27 20:55:16\n",
      "Concerned Nigerian 🇳🇬 2018-08-27 09:02:04\n",
      "Boaz Abigail (Abbie) 2018-08-27 15:35:31\n",
      "Concerned Nigerian 🇳🇬 2018-08-27 09:02:04\n",
      "Oluwadunmininu💎💥 2018-08-26 18:22:56\n",
      "because_of_God_I 2018-08-25 10:09:49\n",
      "Kamasutra🍆 2018-08-24 18:00:52\n",
      "Nwagu David 2018-08-23 09:06:41\n",
      "FK Realtors 2018-08-23 08:25:30\n",
      "FK Realtors 2018-08-23 08:20:00\n",
      "Ahdou Staqmamoené Leiluannè-Sheill♌ 2018-08-20 19:01:35\n",
      "Ahdou Staqmamoené Leiluannè-Sheill♌ 2018-08-20 19:00:25\n",
      "Ahdou Staqmamoené Leiluannè-Sheill♌ 2018-08-20 18:57:42\n",
      "Ahdou Staqmamoené Leiluannè-Sheill♌ 2018-08-20 18:57:29\n",
      ".AJIBADE. 2018-08-20 11:44:26\n",
      "Chuks Zul'Zoranda 2018-08-20 08:45:47\n",
      "Commissioner of Faaji 2018-08-20 00:55:04\n",
      "Boaz Abigail (Abbie) 2018-08-27 15:35:31\n",
      "Concerned Nigerian 🇳🇬 2018-08-27 09:02:04\n",
      "Oluwadunmininu💎💥 2018-08-26 18:22:56\n",
      "because_of_God_I 2018-08-25 10:09:49\n",
      "Kamasutra🍆 2018-08-24 18:00:52\n",
      "Nwagu David 2018-08-23 09:06:41\n",
      "FK Realtors 2018-08-23 08:25:30\n",
      "FK Realtors 2018-08-23 08:20:00\n",
      "Ahdou Staqmamoené Leiluannè-Sheill♌ 2018-08-20 19:01:35\n",
      "Ahdou Staqmamoené Leiluannè-Sheill♌ 2018-08-20 19:00:25\n",
      "Ahdou Staqmamoené Leiluannè-Sheill♌ 2018-08-20 18:57:42\n",
      "Ahdou Staqmamoené Leiluannè-Sheill♌ 2018-08-20 18:57:29\n",
      ".AJIBADE. 2018-08-20 11:44:26\n",
      "Chuks Zul'Zoranda 2018-08-20 08:45:47\n",
      "Commissioner of Faaji 2018-08-20 00:55:04\n"
     ]
    }
   ],
   "source": [
    "# Open/Create a file to append data\n",
    "csvFile = open('berger_to_ajah_analysis.csv', 'a')\n",
    "#Use csv Writer\n",
    "csvWriter = csv.writer(csvFile)\n",
    "csvWriter.writerow(['id', 'Id Str','Name', 'Screen Name','User Location', 'User Url','Friends Count',\n",
    "                    'Followers Count',  'Creation Date', 'Text', 'Retweet Count'])\n",
    "\n",
    "keyword_variants = ['#bergertoajah','#berger2ajah', '#BergertoAjah','#Berger2Ajah', '#BERGERTOAJAH', '#BERGERtoAJAH']\n",
    "for item in keyword_variants :\n",
    "    for tweet in Cursor(client.search,q=item,count=10000,\n",
    "                               lang=\"en\",\n",
    "                                since=\"2016-01-01\",\n",
    "                               ).items():\n",
    "        csvWriter.writerow([tweet.id, tweet.id_str,\n",
    "                            tweet.user.name.encode(\"utf-8\"), \n",
    "                            tweet.user.screen_name.encode(\"utf-8\"),\n",
    "                            tweet.user.location, tweet.user.url,\n",
    "                            tweet.user.friends_count, \n",
    "                            tweet.user.followers_count, \n",
    "                            tweet.created_at, \n",
    "                            (tweet.text).encode(\"utf-8\"),\n",
    "                            tweet.retweet_count])"
   ]
  },
  {
   "cell_type": "code",
   "execution_count": null,
   "metadata": {},
   "outputs": [],
   "source": [
    "\n"
   ]
  },
  {
   "cell_type": "code",
   "execution_count": null,
   "metadata": {},
   "outputs": [],
   "source": []
  }
 ],
 "metadata": {
  "kernelspec": {
   "display_name": "Python 3",
   "language": "python",
   "name": "python3"
  },
  "language_info": {
   "codemirror_mode": {
    "name": "ipython",
    "version": 3
   },
   "file_extension": ".py",
   "mimetype": "text/x-python",
   "name": "python",
   "nbconvert_exporter": "python",
   "pygments_lexer": "ipython3",
   "version": "3.6.5"
  }
 },
 "nbformat": 4,
 "nbformat_minor": 1
}
